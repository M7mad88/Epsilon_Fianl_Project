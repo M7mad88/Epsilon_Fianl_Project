{
 "cells": [
  {
   "cell_type": "code",
   "execution_count": 1,
   "metadata": {},
   "outputs": [],
   "source": [
    "import numpy as np\n",
    "import pandas\n",
    "import joblib"
   ]
  },
  {
   "cell_type": "code",
   "execution_count": 2,
   "metadata": {},
   "outputs": [],
   "source": [
    "\n",
    "def preprocess_month(month) :\n",
    "    if month.lower() == 'mar' :\n",
    "        return [1,0,0,0,0]\n",
    "    elif month.lower() == 'may' :\n",
    "        return [0,1,0,0,0]\n",
    "    elif month.lower() == 'sep' :\n",
    "        return [0,0,1,0,0]\n",
    "    elif month.lower() == 'oct' :\n",
    "        return [0,0,0,1,0]\n",
    "    elif month.lower() == 'dec' :\n",
    "        return [0,0,0,0,1]\n",
    "    else :\n",
    "        return [0,0,0,0,0]\n",
    "    \n",
    "def preprocess_contact(contact) :\n",
    "    if contact.lower() == 'telephone' : \n",
    "        return [1]\n",
    "    else :\n",
    "        return [0]\n",
    "    \n",
    "    \n",
    "def preprocess_housing(housing) :\n",
    "    if housing.lower() == 'yes' : \n",
    "        return [1]\n",
    "    else :\n",
    "        return [0]   \n",
    "\n",
    "\n",
    "\n",
    "def preprocess_marital(marital) :\n",
    "    if marital.lower() == 'married' : \n",
    "        return [1]\n",
    "    else :\n",
    "        return [0]\n",
    "\n",
    "def preprocess_poutcome(poutcome) :\n",
    "    if  poutcome.lower() == 'success' : \n",
    "        return [1]\n",
    "    else :\n",
    "        return [0]   \n",
    "    \n",
    "def preprocess_education(education) :\n",
    "    if education.lower() == 'university_degree' :\n",
    "        return [1]\n",
    "    else :\n",
    "        return [0]\n",
    "    \n",
    "   \n",
    "    \n",
    "## data is du=ictionary contains all input from the user\n",
    "def preprocess_data(data) :\n",
    "   \n",
    "    month = preprocess_month(data['month'])\n",
    "    \n",
    "    emp_var_rate= data['emp_var_rate']\n",
    "    \n",
    "    contact_telephone= preprocess_contact(data['contact_telephone'])\n",
    "    \n",
    "    duration= data['duration']\n",
    "    \n",
    "    housing= preprocess_housing(data['housing'])\n",
    "    \n",
    "    campaign = data['campaign']\n",
    "    \n",
    "    marital = preprocess_marital(data['marital'])\n",
    "    \n",
    "    poutcome=preprocess_poutcome(data['poutcome'])\n",
    "    \n",
    "    previous = data['previous']\n",
    "    \n",
    "    education = preprocess_education(data['education'])\n",
    "    \n",
    "    final_data = month+ [emp_var_rate] + contact_telephone +[duration]+ housing+ [campaign]+ marital+poutcome+[previous] +education\n",
    "    return list(final_data)"
   ]
  },
  {
   "cell_type": "code",
   "execution_count": 3,
   "metadata": {},
   "outputs": [
    {
     "name": "stderr",
     "output_type": "stream",
     "text": [
      "C:\\Users\\Mesho\\Anaconda3\\lib\\site-packages\\dask\\dataframe\\utils.py:15: FutureWarning: pandas.util.testing is deprecated. Use the functions in the public API at pandas.testing instead.\n",
      "  import pandas.util.testing as tm\n"
     ]
    }
   ],
   "source": [
    "model = joblib.load('model_xgb.h5')"
   ]
  },
  {
   "cell_type": "raw",
   "metadata": {},
   "source": [
    "x = ['month_mar', 'month_may', 'month_sep', 'month_oct', 'month_dec',\n",
    "       'emp_var_rate', 'contact_telephone', 'duration', 'housing_yes',\n",
    "       'campaign', 'marital_married', 'poutcome_success', 'previous',\n",
    "       'education_university_degree']"
   ]
  },
  {
   "cell_type": "code",
   "execution_count": 4,
   "metadata": {},
   "outputs": [],
   "source": [
    "data={'month':'oct','emp_var_rate':1.4,'contact_telephone': 'telephone','duration':227,'housing': 'yes',\n",
    "      'campaign':3,'marital': 'single', 'poutcome': 'success', 'previous':0, 'education': 'university_degree'}"
   ]
  },
  {
   "cell_type": "code",
   "execution_count": 5,
   "metadata": {},
   "outputs": [
    {
     "name": "stdout",
     "output_type": "stream",
     "text": [
      "[0, 0, 0, 1, 0, 1.4, 1, 227, 1, 3, 0, 1, 0, 1]\n"
     ]
    }
   ],
   "source": [
    "final_data = preprocess_data(data)\n",
    "print(final_data)"
   ]
  },
  {
   "cell_type": "code",
   "execution_count": 6,
   "metadata": {},
   "outputs": [
    {
     "data": {
      "text/plain": [
       "array([[  0. ,   0. ,   0. ,   1. ,   0. ,   1.4,   1. , 227. ,   1. ,\n",
       "          3. ,   0. ,   1. ,   0. ,   1. ]])"
      ]
     },
     "execution_count": 6,
     "metadata": {},
     "output_type": "execute_result"
    }
   ],
   "source": [
    "d=np.array(final_data).reshape(1,14)\n",
    "d"
   ]
  },
  {
   "cell_type": "code",
   "execution_count": 8,
   "metadata": {},
   "outputs": [
    {
     "data": {
      "text/plain": [
       "array([0], dtype=uint8)"
      ]
     },
     "execution_count": 8,
     "metadata": {},
     "output_type": "execute_result"
    }
   ],
   "source": [
    "result = model.predict(d,validate_features=False)\n",
    "result"
   ]
  }
 ],
 "metadata": {
  "kernelspec": {
   "display_name": "Python 3",
   "language": "python",
   "name": "python3"
  },
  "language_info": {
   "codemirror_mode": {
    "name": "ipython",
    "version": 3
   },
   "file_extension": ".py",
   "mimetype": "text/x-python",
   "name": "python",
   "nbconvert_exporter": "python",
   "pygments_lexer": "ipython3",
   "version": "3.7.3"
  }
 },
 "nbformat": 4,
 "nbformat_minor": 4
}
